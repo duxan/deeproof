{
 "cells": [
  {
   "cell_type": "code",
   "execution_count": 1,
   "metadata": {},
   "outputs": [],
   "source": [
    "from geopy.geocoders import Nominatim\n",
    "import random\n",
    "import requests\n",
    "import numpy as np\n",
    "\n",
    "API_ENDPOINT = \"https://maps.googleapis.com/maps/api/staticmap\"\n",
    "STATIC_PARAMS = \"maptype=satellite&format=jpg&zoom=20&size=512x512\"\n",
    "API_KEY = \"read_from_credentials_file\"\n",
    "\n",
    "\n",
    "def get_images_from_city(city, num_per_city=40, folder=\"./images\"):\n",
    "    geolocator = Nominatim(user_agent=\"Portugal_rooftops\")\n",
    "    location = geolocator.geocode(f\"{city}, Portugal\")\n",
    "\n",
    "    bb = [abs(float(coord)) for coord in location.raw['boundingbox']]\n",
    "    mu_lat = (bb[1] + bb[0]) / 2\n",
    "    mu_lng = (bb[3] + bb[2]) / 2\n",
    "    sigma_lat = (bb[1] - bb[0]) / 36 # 3 sigma\n",
    "    sigma_lng = (bb[2] - bb[3]) / 36 # 3 sigma\n",
    "    lat = [str(p) for p in np.random.normal(mu_lat, sigma_lat, num_per_city)]\n",
    "    lng = [f\"-{str(p)}\" for p in np.random.normal(mu_lng, sigma_lng, num_per_city)]\n",
    "    points = [\",\".join(p) for p in list(zip(lat, lng))]\n",
    "\n",
    "    for point in points:\n",
    "        url = f\"{API_ENDPOINT}?{STATIC_PARAMS}&center={point}&key={API_KEY}\"\n",
    "        img = requests.get(url)\n",
    "        with open(f'{folder}/{city}_{point}.jpg', 'wb') as f:\n",
    "            f.write(img.content)\n",
    "        f.close()"
   ]
  },
  {
   "cell_type": "code",
   "execution_count": 2,
   "metadata": {},
   "outputs": [],
   "source": [
    "portugal_cities = [\"Aveiro\", \"Braga\", \"Coimbra\", \"Evora\", \"Guimaraes\", \"Lisbon\", \"Porto\",\n",
    "                   \"Sintra\", \"Viseu\", \"Matosinhos\"]\n",
    "\n",
    "for city in portugal_cities:\n",
    "    get_images_from_city(city)"
   ]
  }
 ],
 "metadata": {
  "kernelspec": {
   "display_name": "Python 3",
   "language": "python",
   "name": "python3"
  },
  "language_info": {
   "codemirror_mode": {
    "name": "ipython",
    "version": 3
   },
   "file_extension": ".py",
   "mimetype": "text/x-python",
   "name": "python",
   "nbconvert_exporter": "python",
   "pygments_lexer": "ipython3",
   "version": "3.7.4"
  }
 },
 "nbformat": 4,
 "nbformat_minor": 2
}
