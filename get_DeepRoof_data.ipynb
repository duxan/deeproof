{
 "cells": [
  {
   "cell_type": "code",
   "execution_count": 1,
   "metadata": {},
   "outputs": [],
   "source": [
    "import requests\n",
    "\n",
    "dataset_url = \"http://smart.cs.umass.edu/download.php?t=deeproof&y=2017\"\n",
    "payload = {'name': 'Dusan Randelovic', \n",
    "           'affiliation': '/' , \n",
    "           'country': 'Portugal', \n",
    "           'email': 'randjelovicdushan@gmail.com',\n",
    "           'submit': 'Submit'}\n",
    "\n",
    "tar = requests.post(dataset_url, data=payload)\n",
    "with open('deeproof.tar.gz', 'wb') as f:\n",
    "    f.write(tar.content)\n",
    "f.close()"
   ]
  },
  {
   "cell_type": "code",
   "execution_count": 2,
   "metadata": {},
   "outputs": [],
   "source": [
    "!tar -xzf deeproof.tar.gz "
   ]
  },
  {
   "cell_type": "code",
   "execution_count": 3,
   "metadata": {},
   "outputs": [],
   "source": [
    "!rm -rf deeproof-release/src/ deeproof-release/data/deeproof/data-aug/ deeproof-release/data/deeproof-aug/test/"
   ]
  },
  {
   "cell_type": "code",
   "execution_count": 4,
   "metadata": {},
   "outputs": [],
   "source": [
    "!mv deeproof-release/data/ ."
   ]
  },
  {
   "cell_type": "code",
   "execution_count": 5,
   "metadata": {},
   "outputs": [],
   "source": [
    "!rm -rf deeproof.tar.gz deeproof-release/"
   ]
  }
 ],
 "metadata": {
  "kernelspec": {
   "display_name": "Python 3",
   "language": "python",
   "name": "python3"
  },
  "language_info": {
   "codemirror_mode": {
    "name": "ipython",
    "version": 3
   },
   "file_extension": ".py",
   "mimetype": "text/x-python",
   "name": "python",
   "nbconvert_exporter": "python",
   "pygments_lexer": "ipython3",
   "version": "3.6.6"
  }
 },
 "nbformat": 4,
 "nbformat_minor": 2
}
